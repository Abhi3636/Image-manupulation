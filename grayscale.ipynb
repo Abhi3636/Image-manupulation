{
 "cells": [
  {
   "cell_type": "code",
   "execution_count": 14,
   "id": "potential-parker",
   "metadata": {},
   "outputs": [],
   "source": [
    "# Importing package as libraries\n",
    "from PIL import Image, ImageEnhance"
   ]
  },
  {
   "cell_type": "code",
   "execution_count": 15,
   "id": "weird-brazil",
   "metadata": {},
   "outputs": [],
   "source": [
    "# Importing the image\n",
    "img = Image.open(\"tree.jpg\")"
   ]
  },
  {
   "cell_type": "code",
   "execution_count": 16,
   "id": "copyrighted-little",
   "metadata": {
    "scrolled": true
   },
   "outputs": [],
   "source": [
    "# Define grayscale\n",
    "img = img.convert('L') \n",
    "img.save('grayscaled.jpg') # saving it to the device"
   ]
  }
 ],
 "metadata": {
  "kernelspec": {
   "display_name": "Python 3",
   "language": "python",
   "name": "python3"
  },
  "language_info": {
   "codemirror_mode": {
    "name": "ipython",
    "version": 3
   },
   "file_extension": ".py",
   "mimetype": "text/x-python",
   "name": "python",
   "nbconvert_exporter": "python",
   "pygments_lexer": "ipython3",
   "version": "3.7.10"
  }
 },
 "nbformat": 4,
 "nbformat_minor": 5
}
